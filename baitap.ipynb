{
 "cells": [
  {
   "cell_type": "code",
   "execution_count": 2,
   "id": "316da6b4-8936-462b-af89-7620ac87d09b",
   "metadata": {},
   "outputs": [
    {
     "name": "stdin",
     "output_type": "stream",
     "text": [
      "nhap vao so n: 2\n"
     ]
    },
    {
     "name": "stdout",
     "output_type": "stream",
     "text": [
      "4\n"
     ]
    }
   ],
   "source": [
    "n = int(input(\"nhap vao so n:\"))\n",
    "n = n*2\n",
    "print(n)"
   ]
  },
  {
   "cell_type": "code",
   "execution_count": 5,
   "id": "ea938aef-da71-476a-8dd6-cc5a8e51180e",
   "metadata": {},
   "outputs": [
    {
     "name": "stdin",
     "output_type": "stream",
     "text": [
      "nhap vao so a: 1\n",
      "nhap vao so b: 2\n"
     ]
    },
    {
     "name": "stdout",
     "output_type": "stream",
     "text": [
      "5.5\n"
     ]
    }
   ],
   "source": [
    "a = float(input(\"nhap vao so a:\"))\n",
    "b = float(input(\"nhap vao so b:\"))\n",
    "pi = 3.14\n",
    "dien_tich_trong_cay = round((a*b-(a/2)**2)*pi, 2)\n",
    "print(dien_tich_trong_cay)"
   ]
  },
  {
   "cell_type": "code",
   "execution_count": 12,
   "id": "27bfd912-c008-48ab-afdd-2842e622ead7",
   "metadata": {},
   "outputs": [
    {
     "name": "stdin",
     "output_type": "stream",
     "text": [
      " A\n"
     ]
    },
    {
     "name": "stdout",
     "output_type": "stream",
     "text": [
      "a\n"
     ]
    }
   ],
   "source": [
    "a = input()\n",
    "b = a.upper()\n",
    "c = a.lower()\n",
    "if a==b:\n",
    "    print(c)\n",
    "else:\n",
    "    print(b)\n"
   ]
  },
  {
   "cell_type": "code",
   "execution_count": 2,
   "id": "df6c2ea9-cd97-40a0-9771-9406556262c6",
   "metadata": {
    "ExecuteTime": {
     "end_time": "2025-09-22T10:44:01.681459Z",
     "start_time": "2025-09-22T10:43:58.726055Z"
    }
   },
   "outputs": [
    {
     "name": "stdout",
     "output_type": "stream",
     "text": [
      "không phải là kí tự alphabet\n"
     ]
    }
   ],
   "source": [
    "a = input()\n",
    "if a.isalpha():\n",
    "    print(\"là kí tự alphabet\")\n",
    "else:\n",
    "    print(\"không phải là kí tự alphabet\")"
   ]
  },
  {
   "cell_type": "code",
   "id": "92751dd80dac390b",
   "metadata": {
    "ExecuteTime": {
     "end_time": "2025-09-24T15:07:44.476592Z",
     "start_time": "2025-09-24T15:07:42.360231Z"
    }
   },
   "source": [
    "a=input()\n",
    "b=a.lower()\n",
    "if b == 'a':\n",
    "    print(\"khong co chu cai dang truoc\")\n",
    "elif 'b'<= b <= 'v':\n",
    "    print(chr(ord(b)-1))\n",
    "else:\n",
    "    print(\"khong xac dinh\")"
   ],
   "outputs": [
    {
     "name": "stdout",
     "output_type": "stream",
     "text": [
      "u\n"
     ]
    }
   ],
   "execution_count": 2
  },
  {
   "cell_type": "code",
   "execution_count": 7,
   "id": "9e076d25c8f84314",
   "metadata": {
    "ExecuteTime": {
     "end_time": "2025-09-22T10:55:32.537958Z",
     "start_time": "2025-09-22T10:55:24.157375Z"
    }
   },
   "outputs": [
    {
     "name": "stdout",
     "output_type": "stream",
     "text": [
      "1.0 2.0 3.0 3.0 5.0\n"
     ]
    }
   ],
   "source": [
    "a, b, c ,d ,e ,f = map(float, input().split(\",\"))\n",
    "print( a, b, c, d, e)"
   ]
  },
  {
   "cell_type": "code",
   "execution_count": 12,
   "id": "e811c066fd7cb05f",
   "metadata": {
    "ExecuteTime": {
     "end_time": "2025-09-22T11:07:45.041079Z",
     "start_time": "2025-09-22T11:07:36.890492Z"
    }
   },
   "outputs": [
    {
     "name": "stdout",
     "output_type": "stream",
     "text": [
      "day khong phai la tam giac\n"
     ]
    }
   ],
   "source": [
    "a, b, c = map(float, input().split(\",\"))\n",
    "if a + b <= c or b + c <= a or a + c <= b or a ==0 and b == 0 and c == 0:\n",
    "    print(\"day khong phai la tam giac\")\n",
    "elif a*a + b*b == c*c or a*a + c*c == b*b or b*b + c*c == a*a:\n",
    "    print(\"day la tam giac vuong\")\n",
    "else:\n",
    "    print(\"day khong phai la tam giac vuong\")\n"
   ]
  },
  {
   "cell_type": "code",
   "execution_count": 19,
   "id": "3956c56b911df508",
   "metadata": {
    "ExecuteTime": {
     "end_time": "2025-09-22T11:18:40.157313Z",
     "start_time": "2025-09-22T11:18:31.333268Z"
    }
   },
   "outputs": [
    {
     "name": "stdout",
     "output_type": "stream",
     "text": [
      "aytcytcyhcycycyvjbknlkmklonbuyvtc6vtubinonbuiyv7c\n",
      "y\n",
      "h\n"
     ]
    }
   ],
   "source": [
    "a = input()\n",
    "print(a)\n",
    "print(a[4])\n",
    "print(a[8])"
   ]
  },
  {
   "cell_type": "code",
   "id": "ce27c8a60a63490e",
   "metadata": {
    "ExecuteTime": {
     "end_time": "2025-09-23T06:18:50.117849Z",
     "start_time": "2025-09-23T06:18:36.946690Z"
    }
   },
   "source": [
    "n = input(\"nhap ho va ten:\")\n",
    "print(\"ho va ten:\",n)\n",
    "m = int(input(\"chi so tien dien thang truoc:\"))\n",
    "print(\"chi so tien dien thang truoc:\",m)\n",
    "g = int(input(\"chi so tien dien thang nay:\"))\n",
    "a = g - m\n",
    "print(\"chi so tien dien thang nay:\",g)\n",
    "if 0 <= a <= 50:\n",
    "    b = a * 1984\n",
    "    c = b + 8*b/100\n",
    "    print(\"ho va ten:\",n)\n",
    "    print(\"tien phai tra thang nay:\",c)\n",
    "elif 51 <= a <=100:\n",
    "    b= 50 * 1984 + (a-50)*2050\n",
    "    c= b + 8*b/100\n",
    "    print(\"ho va ten:\",n)\n",
    "    print(\"tien phai tra thang nay:\",c)\n",
    "elif 101 <= a <= 200:\n",
    "    b= 50 * 1984 + 50 * 2050 + (a-100) * 2380\n",
    "    c= b + 8*b/100\n",
    "    print(\"ho va ten:\",n)\n",
    "    print(\"tien phai tra thang nay:\",c)\n",
    "elif 201 <= a <= 300:\n",
    "    b= 50 * 1984 + 50 * 2050 + 100 * 2380 + (a-200) * 2998\n",
    "    c= b + 8*b/100\n",
    "    print(\"ho va ten:\",n)\n",
    "    print(\"tien phai tra thang nay:\",c)\n",
    "elif 301 <= a <= 400:\n",
    "    b= 50 * 1984 + 50 * 2050 + 100 * 2380 + 100 * 2998 + (a-300) * 3350\n",
    "    c= b + 8*b/100\n",
    "    print(\"ho va ten:\",n)\n",
    "    print(\"tien phai tra thang nay:\",c)\n",
    "elif 401 <= a:\n",
    "     b= 50 * 1984 + 50 * 2050 + 100 * 2380 + 100 * 2998 + 100 * 3350 + (a-400) * 3460\n",
    "     c= b + 8*b/100\n",
    "     print(\"ho va ten:\",n)\n",
    "     print(\"tien phai tra thang nay:\",c)"
   ],
   "outputs": [
    {
     "name": "stdout",
     "output_type": "stream",
     "text": [
      "ho va ten: whgaius\n",
      "chi so tien dien thang truoc: 1000\n",
      "chi so tien dien thang nay: 1200\n",
      "ho va ten: whgaius\n",
      "tien phai tra thang nay: 474876.0\n"
     ]
    }
   ],
   "execution_count": 3
  },
  {
   "cell_type": "code",
   "execution_count": 6,
   "id": "3a74ff3a6bcfcba1",
   "metadata": {
    "ExecuteTime": {
     "end_time": "2025-09-22T15:41:06.255743Z",
     "start_time": "2025-09-22T15:41:03.219248Z"
    }
   },
   "outputs": [
    {
     "name": "stdout",
     "output_type": "stream",
     "text": [
      "day la so le\n"
     ]
    }
   ],
   "source": [
    "a = int(input())\n",
    "b = a/2\n",
    "if b.is_integer():\n",
    "    print(\"day la so chan\")\n",
    "else:\n",
    "    print(\"day la so le\")"
   ]
  },
  {
   "cell_type": "code",
   "execution_count": 8,
   "id": "7bf6814b2b25e770",
   "metadata": {
    "ExecuteTime": {
     "end_time": "2025-09-22T15:43:12.013321Z",
     "start_time": "2025-09-22T15:43:08.370529Z"
    }
   },
   "outputs": [
    {
     "name": "stdout",
     "output_type": "stream",
     "text": [
      "False\n"
     ]
    }
   ],
   "source": [
    "a = int(input())\n",
    "b = (a - 5)/10\n",
    "if b.is_integer():\n",
    "    print(\"True\")\n",
    "else:\n",
    "    print(\"False\")"
   ]
  },
  {
   "metadata": {
    "ExecuteTime": {
     "end_time": "2025-09-23T09:24:25.238401Z",
     "start_time": "2025-09-23T09:24:18.735726Z"
    }
   },
   "cell_type": "code",
   "source": [
    "a = int(input(\"nhap nam sinh\"))\n",
    "b = 2025 - a\n",
    "if b < 18:\n",
    "    print(\"chua du tuoi\")\n",
    "else:\n",
    "    print(\"du tuoi\")"
   ],
   "id": "b0273dd65a4bddc",
   "outputs": [
    {
     "name": "stdout",
     "output_type": "stream",
     "text": [
      "chua du tieu\n"
     ]
    }
   ],
   "execution_count": 5
  },
  {
   "metadata": {
    "ExecuteTime": {
     "end_time": "2025-09-23T09:28:39.750483Z",
     "start_time": "2025-09-23T09:28:35.141570Z"
    }
   },
   "cell_type": "code",
   "source": [
    "a,b = map(int, input().split(\",\"))\n",
    "if a==b:\n",
    "    print(\"day la hai so bang nhau\")\n",
    "elif a<b:\n",
    "    print(b)\n",
    "else:\n",
    "    print(a)\n"
   ],
   "id": "d186f42173b3b053",
   "outputs": [
    {
     "name": "stdout",
     "output_type": "stream",
     "text": [
      "2\n"
     ]
    }
   ],
   "execution_count": 6
  },
  {
   "metadata": {
    "ExecuteTime": {
     "end_time": "2025-09-23T09:31:45.948259Z",
     "start_time": "2025-09-23T09:31:43.216428Z"
    }
   },
   "cell_type": "code",
   "source": [
    "a= input()\n",
    "if a.isalpha():\n",
    "    print(\"day la 1 chu cai\")\n",
    "elif a.isnumeric():\n",
    "    print(\"day la 1 chu so\")\n",
    "else:\n",
    "    print(\"khong xac dinh\")"
   ],
   "id": "7458ff0e7e1d2049",
   "outputs": [
    {
     "name": "stdout",
     "output_type": "stream",
     "text": [
      "day la 1 chu so\n"
     ]
    }
   ],
   "execution_count": 8
  },
  {
   "metadata": {
    "ExecuteTime": {
     "end_time": "2025-09-23T09:42:06.132287Z",
     "start_time": "2025-09-23T09:42:01.189167Z"
    }
   },
   "cell_type": "code",
   "source": [
    "a = int(input(\"nhap diem hoc luc\"))\n",
    "if 8<=a<=10:\n",
    "    print(\"gioi\")\n",
    "elif 6.5<=a<8:\n",
    "    print(\"kha\")\n",
    "elif 5<=a<6.5:\n",
    "    print(\"trung binh\")\n",
    "elif a<=5:\n",
    "    print(\"yeu\")\n",
    "elif a>10 or a<0:\n",
    "    print(\"False\")\n",
    "\n"
   ],
   "id": "b7ed1f3903b7bafd",
   "outputs": [
    {
     "name": "stdout",
     "output_type": "stream",
     "text": [
      "False\n"
     ]
    }
   ],
   "execution_count": 10
  },
  {
   "metadata": {
    "ExecuteTime": {
     "end_time": "2025-09-23T09:20:44.518785Z",
     "start_time": "2025-09-23T09:20:40.208428Z"
    }
   },
   "cell_type": "code",
   "source": [
    "a = int(input())\n",
    "b = a/5\n",
    "c = a/3\n",
    "if c.is_integer() and b.is_integer():\n",
    "    print(\"True\")\n",
    "else:\n",
    "    print(\"False\")"
   ],
   "id": "e86bbc589ae775d7",
   "outputs": [
    {
     "name": "stdout",
     "output_type": "stream",
     "text": [
      "True\n"
     ]
    }
   ],
   "execution_count": 4
  },
  {
   "metadata": {},
   "cell_type": "code",
   "outputs": [],
   "execution_count": null,
   "source": [
    "a = int(input(\"nhap so nam\"))\n",
    "b = a/4\n",
    "if b.is_integer():\n",
    "    print(\"day la nam nhuan\")\n",
    "else:\n",
    "    print(\"day khong phai la nam nhuan\")"
   ],
   "id": "550c7d64f8482e8f"
  },
  {
   "metadata": {},
   "cell_type": "code",
   "outputs": [],
   "execution_count": null,
   "source": "",
   "id": "2ed11d395f2b79dd"
  },
  {
   "cell_type": "code",
   "id": "0f278e34-7922-407b-8848-3ff7c08f4f79",
   "metadata": {
    "ExecuteTime": {
     "end_time": "2025-09-23T00:33:53.080876Z",
     "start_time": "2025-09-23T00:33:50.259845Z"
    }
   },
   "source": [
    "a = int(input())\n",
    "match a:\n",
    "    case 0:\n",
    "        print(\"khong\")\n",
    "    case 1:\n",
    "        print(\"mot\")\n",
    "    case 2:\n",
    "        print(\"hai\")\n",
    "    case 3:\n",
    "        print(\"ba\")\n",
    "    case 4:\n",
    "        print(\"bon\")\n",
    "    case 5:\n",
    "        print(\"nam\")\n",
    "    case 6:\n",
    "        print(\"sau\")\n",
    "    case 7:\n",
    "        print(\"bay\")\n",
    "    case 8:\n",
    "        print(\"tam\")\n",
    "    case 9:\n",
    "        print(\"chin\")\n"
   ],
   "outputs": [
    {
     "name": "stdout",
     "output_type": "stream",
     "text": [
      "ba\n"
     ]
    }
   ],
   "execution_count": 13
  },
  {
   "metadata": {
    "ExecuteTime": {
     "end_time": "2025-09-23T00:38:44.857Z",
     "start_time": "2025-09-23T00:38:42.292287Z"
    }
   },
   "cell_type": "code",
   "source": [
    "a = float(input(\"nhap diem thi\"))\n",
    "if a<4:\n",
    "    print(\"truot mon\")\n",
    "else:\n",
    "    print(\"qua mon\")\n"
   ],
   "id": "cb7595f787b8a93d",
   "outputs": [
    {
     "name": "stdout",
     "output_type": "stream",
     "text": [
      "truot mon\n"
     ]
    }
   ],
   "execution_count": 16
  },
  {
   "metadata": {
    "ExecuteTime": {
     "end_time": "2025-09-23T09:45:28.055558Z",
     "start_time": "2025-09-23T09:45:24.230353Z"
    }
   },
   "cell_type": "code",
   "source": [
    "a = int(input(\"nhap nam sinh\"))\n",
    "b = 2025 - a\n",
    "if b < 18:\n",
    "    print(\"chua du 18 tuoi\")\n",
    "else:\n",
    "    print(\"du 18 tuoi\")"
   ],
   "id": "3869b7d9d9bb800a",
   "outputs": [
    {
     "name": "stdout",
     "output_type": "stream",
     "text": [
      "du 18 tuoi\n"
     ]
    }
   ],
   "execution_count": 11
  },
  {
   "metadata": {
    "ExecuteTime": {
     "end_time": "2025-09-23T10:48:02.866208Z",
     "start_time": "2025-09-23T10:48:02.857247Z"
    }
   },
   "cell_type": "code",
   "source": "print(\"hello world\")",
   "id": "55b3885aa9ba17fa",
   "outputs": [
    {
     "name": "stdout",
     "output_type": "stream",
     "text": [
      "hello world\n"
     ]
    }
   ],
   "execution_count": 1
  },
  {
   "metadata": {},
   "cell_type": "code",
   "outputs": [],
   "execution_count": null,
   "source": "",
   "id": "a9b125b5cee72c1c"
  }
 ],
 "metadata": {
  "kernelspec": {
   "display_name": "Python 3 (ipykernel)",
   "language": "python",
   "name": "python3"
  },
  "language_info": {
   "codemirror_mode": {
    "name": "ipython",
    "version": 3
   },
   "file_extension": ".py",
   "mimetype": "text/x-python",
   "name": "python",
   "nbconvert_exporter": "python",
   "pygments_lexer": "ipython3",
   "version": "3.13.7"
  }
 },
 "nbformat": 4,
 "nbformat_minor": 5
}
