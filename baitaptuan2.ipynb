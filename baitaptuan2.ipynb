{
 "cells": [
  {
   "cell_type": "code",
   "execution_count": null,
   "id": "48c12baf62e42413",
   "metadata": {},
   "outputs": [],
   "source": [
    "#bai 1"
   ]
  },
  {
   "cell_type": "code",
   "execution_count": 1,
   "id": "fbc121e30a2defb3",
   "metadata": {
    "ExecuteTime": {
     "end_time": "2025-09-26T15:10:14.547348Z",
     "start_time": "2025-09-26T15:10:04.980732Z"
    }
   },
   "outputs": [
    {
     "name": "stdout",
     "output_type": "stream",
     "text": [
      "6.0\n",
      "2.0\n"
     ]
    }
   ],
   "source": [
    "from os import access\n",
    "\n",
    "a=float(input(\"nhap vao chieu rong:\"))\n",
    "b=float(input(\"nhap vao chieu dai:\"))\n",
    "chu_vi = (a+b)*2\n",
    "print(chu_vi)\n",
    "dien_tich = a*b\n",
    "print(dien_tich)"
   ]
  },
  {
   "cell_type": "code",
   "execution_count": null,
   "id": "2497ed39c2d0efe9",
   "metadata": {},
   "outputs": [],
   "source": [
    "a, b = map(float, input(\"nhap vao chieu rong, chieu dai:\").split(\",\"))\n",
    "chu_vi = (a+b)*2\n",
    "print(chu_vi)\n",
    "dien_tich = a*b\n",
    "print(dien_tich)"
   ]
  },
  {
   "cell_type": "code",
   "execution_count": null,
   "id": "48bdf47f171025ca",
   "metadata": {},
   "outputs": [],
   "source": [
    "#bai 2"
   ]
  },
  {
   "cell_type": "code",
   "execution_count": null,
   "id": "165b7ce1347b240d",
   "metadata": {},
   "outputs": [],
   "source": [
    "pi = 3.14\n",
    "a = input(\"nhap vao ban kinh hinh tron\")\n",
    "dien_tich_hinh_tron = pi*a*a\n",
    "print(dien_tich_hinh_tron)\n",
    "chu_vi_hinh_tron = pi*a*2"
   ]
  },
  {
   "cell_type": "code",
   "execution_count": null,
   "id": "6c6914839c35fa64",
   "metadata": {},
   "outputs": [],
   "source": [
    "#bai 3"
   ]
  },
  {
   "cell_type": "code",
   "execution_count": 9,
   "id": "f6b0ccda47f4fbc4",
   "metadata": {
    "ExecuteTime": {
     "end_time": "2025-09-26T15:42:41.220786Z",
     "start_time": "2025-09-26T15:42:31.294609Z"
    }
   },
   "outputs": [
    {
     "name": "stdout",
     "output_type": "stream",
     "text": [
      "day khong phai la canh cua tam giac\n"
     ]
    }
   ],
   "source": [
    "a, b, c =map(float, input(\"nhap vao 3 canh tam giac:\").split(\",\"))\n",
    "if a + b <= c or a + c <= b or b + c <= a or a <= 0 or b <= 0 or c <= 0:\n",
    "    print(\"day khong phai la canh cua tam giac\")\n",
    "elif a*a + b*b == c*c or c*c + b*b == a*a or a*a + c*c == b*b:\n",
    "    print(\"day la mot tam giac vuong\")\n",
    "    p = (a +b + c)/2\n",
    "    dien_tich = (p*(p-a)*(p-b)*(p-c))**0.5\n",
    "    print(dien_tich)\n",
    "    chu_vi = p*2\n",
    "elif a==b==c:\n",
    "    print(\"day la 1 tam giac deu\")\n",
    "    p = (a +b + c)/2\n",
    "    dien_tich = (p*(p-a)*(p-b)*(p-c))**0.5\n",
    "    print(dien_tich)\n",
    "    chu_vi = p*2\n",
    "    print(chu_vi)\n",
    "elif a==b or a==c or b==c:\n",
    "    print(\"day la 1 tam giac vuong can\")\n",
    "    p = (a +b + c)/2\n",
    "    dien_tich = (p*(p-a)*(p-b)*(p-c))**0.5\n",
    "    print(dien_tich)\n",
    "    chu_vi = p*2\n",
    "    print(chu_vi)\n",
    "else:\n",
    "    print(\"day la 1 tam giac thuong\")\n",
    "    p = (a +b + c)/2\n",
    "    dien_tich = (p*(p-a)*(p-b)*(p-c))**0.5\n",
    "    print(dien_tich)\n",
    "    chu_vi = p*2\n",
    "    print(chu_vi)\n",
    "\n"
   ]
  },
  {
   "cell_type": "code",
   "execution_count": 11,
   "id": "bde43436ee52afb9",
   "metadata": {
    "ExecuteTime": {
     "end_time": "2025-09-26T15:45:58.679979Z",
     "start_time": "2025-09-26T15:45:53.233821Z"
    }
   },
   "outputs": [
    {
     "name": "stdout",
     "output_type": "stream",
     "text": [
      "-2.0\n"
     ]
    }
   ],
   "source": [
    "#bai 4\n",
    "a, b = map(float, input(\"nhap vao he so a, b\"). split(\",\"))\n",
    "x = -b/a\n",
    "print(x)"
   ]
  },
  {
   "cell_type": "code",
   "execution_count": 14,
   "id": "4e1323dde5894c6f",
   "metadata": {
    "ExecuteTime": {
     "end_time": "2025-09-26T15:55:52.837723Z",
     "start_time": "2025-09-26T15:55:44.469764Z"
    }
   },
   "outputs": [
    {
     "name": "stdout",
     "output_type": "stream",
     "text": [
      "phuong trinh co 2 nghiem la\n",
      "1.0\n",
      "-4.0\n"
     ]
    }
   ],
   "source": [
    "#bai 5\n",
    "a, b ,c = map(float, input(\"nhap vao he so a, b, c\").split(\",\"))\n",
    "delta = b*b - 4*a*c\n",
    "if delta < 0:\n",
    "    print(\"phuong trinh vo nghiem\")\n",
    "elif delta == 0:\n",
    "    print(\"phuong trinh co nghiem duy nhat la\")\n",
    "    x = -b / (2*a)\n",
    "    print(x)\n",
    "elif delta >0:\n",
    "    print(\"phuong trinh co 2 nghiem la\")\n",
    "    x1 = (-b + delta**0.5) / (2*a)\n",
    "    x2 = (-b - delta**0.5) / (2*a)\n",
    "    print(x1)\n",
    "    print(x2)"
   ]
  },
  {
   "cell_type": "code",
   "execution_count": 25,
   "id": "aa311d9d8ac9f94d",
   "metadata": {
    "ExecuteTime": {
     "end_time": "2025-09-26T16:26:25.567777Z",
     "start_time": "2025-09-26T16:26:12.564929Z"
    }
   },
   "outputs": [
    {
     "name": "stdout",
     "output_type": "stream",
     "text": [
      "1100.0\n"
     ]
    }
   ],
   "source": [
    "#bai 6\n",
    "a, b, c ,d =map(float, input(\"nhap vao 4 so a, b, c, d \").split(\",\"))\n",
    "e = b - c\n",
    "g = a - c\n",
    "if a <= b:\n",
    "    if e < 0:\n",
    "        f = c-d\n",
    "        if f < 0:\n",
    "            print(d)\n",
    "        else:\n",
    "            print(c)\n",
    "    if e > 0:\n",
    "        f = b-d\n",
    "        if f < 0:\n",
    "            print(d)\n",
    "        else:\n",
    "            print(b)\n",
    "    if e == 0:\n",
    "        f = c-d\n",
    "        if f < 0:\n",
    "            print(d)\n",
    "        else:\n",
    "            print(c)\n",
    "if a >= b:\n",
    "    if g < 0:\n",
    "        f = c-d\n",
    "        if f < 0:\n",
    "            print(d)\n",
    "        else:\n",
    "            print(c)\n",
    "    if g > 0:\n",
    "        f = a-d\n",
    "        if f < 0:\n",
    "            print(d)\n",
    "        else:\n",
    "            print(a)\n",
    "    if g == 0:\n",
    "        f = c-d\n",
    "        if f < 0:\n",
    "            print(d)\n",
    "        else:\n",
    "            print(c)\n",
    "\n"
   ]
  },
  {
   "cell_type": "code",
   "execution_count": 33,
   "id": "af9a96c605403b24",
   "metadata": {
    "ExecuteTime": {
     "end_time": "2025-09-26T16:35:12.862854Z",
     "start_time": "2025-09-26T16:35:06.448455Z"
    }
   },
   "outputs": [
    {
     "name": "stdout",
     "output_type": "stream",
     "text": [
      "1.0\n"
     ]
    }
   ],
   "source": [
    "#bai 7\n",
    "a, b, c ,d =map(float, input(\"nhap vao 4 so a, b, c, d \").split(\",\"))\n",
    "e = b - c\n",
    "g = a - c\n",
    "if a >= b:\n",
    "    if e < 0:\n",
    "        f = b-d\n",
    "        if f < 0:\n",
    "            print(b)\n",
    "        else:\n",
    "            print(d)\n",
    "    if e > 0:\n",
    "        f = c-d\n",
    "        if f < 0:\n",
    "            print(c)\n",
    "        else:\n",
    "            print(d)\n",
    "    if e == 0:\n",
    "        f = c-d\n",
    "        if f < 0:\n",
    "            print(c)\n",
    "        else:\n",
    "            print(d)\n",
    "if b >= a:\n",
    "    if g < 0:\n",
    "        f = a-d\n",
    "        if f < 0:\n",
    "            print(a)\n",
    "        else:\n",
    "            print(d)\n",
    "    if g > 0:\n",
    "        f = c-d\n",
    "        if f < 0:\n",
    "            print(c)\n",
    "        else:\n",
    "            print(d)\n",
    "    if g == 0:\n",
    "        f = c-d\n",
    "        if f < 0:\n",
    "            print(c)\n",
    "        else:\n",
    "            print(d)"
   ]
  },
  {
   "cell_type": "code",
   "id": "3431f180ac35e886",
   "metadata": {
    "ExecuteTime": {
     "end_time": "2025-09-27T07:57:57.943928Z",
     "start_time": "2025-09-27T07:57:45.262773Z"
    }
   },
   "source": [
    "#bài 8\n",
    "a, b, c, d = map(float, input(\"nhap vao 4 he so cua ma tran A a, b, c, d \").split(\",\"))\n",
    "e, f = map(float, input(\"nhap vao 2 he so cua ma tran b\").split(\",\"))\n",
    "import numpy as np\n",
    "A = np.array([[a, b],\n",
    "             [c, d]])\n",
    "B = np.array([e,f])\n",
    "inv_A = np.linalg.inv(A)\n",
    "print(\"nghiem can tim la\", inv_A@B)"
   ],
   "outputs": [
    {
     "name": "stdout",
     "output_type": "stream",
     "text": [
      "nghiem can tim la [-4.   4.5]\n"
     ]
    }
   ],
   "execution_count": 19
  },
  {
   "metadata": {
    "ExecuteTime": {
     "end_time": "2025-09-27T07:57:28.429568Z",
     "start_time": "2025-09-27T07:57:24.275069Z"
    }
   },
   "cell_type": "code",
   "source": [
    "#bai 9\n",
    "a=int(input(\"nhap vao x giay\"))\n",
    "A = a//60\n",
    "B = a - A*60\n",
    "C = a//3600\n",
    "D = a - C*3600\n",
    "E = D//60\n",
    "F = D - E*60\n",
    "if a < 60:\n",
    "    print(a, \"giay\")\n",
    "elif 60 <=a <3600:\n",
    "    print(A, \"phut\", B, \"giay\")\n",
    "elif 3600 <= a:\n",
    "    if D < 60:\n",
    "        print(C, \"gio\", D, \"giay\")\n",
    "    else:\n",
    "        print(C, \"gio\", E, \"phut\", F, \"giay\")"
   ],
   "id": "1ac4842871721c97",
   "outputs": [
    {
     "name": "stdout",
     "output_type": "stream",
     "text": [
      "1 phut 36 giay\n"
     ]
    }
   ],
   "execution_count": 18
  },
  {
   "metadata": {
    "ExecuteTime": {
     "end_time": "2025-09-27T08:12:44.566321Z",
     "start_time": "2025-09-27T08:12:30.624471Z"
    }
   },
   "cell_type": "code",
   "source": [
    "x,y = map(float, input(\"nhap vao toa do tam hinh tron (x,y)\"). split(\",\"))\n",
    "R = float(input(\"nhap vao ban kinh R\"))\n",
    "a,b = map(float, input(\"nhap vao tao do diem (a,b)\"). split(\",\"))\n",
    "F = ((x-a)**2 + (y-b)**2)**0.5\n",
    "if F==R:\n",
    "    print(\"day la mot diem thuoc duong tron\")\n",
    "elif F < R:\n",
    "    print(\"day nam trong duong tron\")\n",
    "else:\n",
    "    print(\"day khong phai la mot diem thuoc duong tron\")"
   ],
   "id": "8844529bb8bc2371",
   "outputs": [
    {
     "name": "stdout",
     "output_type": "stream",
     "text": [
      "day khong thuoc duong tron\n"
     ]
    }
   ],
   "execution_count": 23
  },
  {
   "metadata": {
    "ExecuteTime": {
     "end_time": "2025-09-27T08:16:18.397671Z",
     "start_time": "2025-09-27T08:16:09.455518Z"
    }
   },
   "cell_type": "code",
   "source": [
    "x = float(input(\"nhap vao x\"))\n",
    "y = float(input(\"nhap vao y\"))\n",
    "print(x**y)"
   ],
   "id": "fc5265830d610270",
   "outputs": [
    {
     "name": "stdout",
     "output_type": "stream",
     "text": [
      "1.0\n"
     ]
    }
   ],
   "execution_count": 1
  }
 ],
 "metadata": {
  "kernelspec": {
   "display_name": "Python 3 (ipykernel)",
   "language": "python",
   "name": "python3"
  },
  "language_info": {
   "codemirror_mode": {
    "name": "ipython",
    "version": 3
   },
   "file_extension": ".py",
   "mimetype": "text/x-python",
   "name": "python",
   "nbconvert_exporter": "python",
   "pygments_lexer": "ipython3",
   "version": "3.13.7"
  }
 },
 "nbformat": 4,
 "nbformat_minor": 5
}
